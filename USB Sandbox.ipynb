{
 "cells": [
  {
   "cell_type": "markdown",
   "metadata": {},
   "source": [
    "# Setup"
   ]
  },
  {
   "cell_type": "code",
   "execution_count": 1,
   "metadata": {},
   "outputs": [],
   "source": [
    "import usb.backend.libusb1\n",
    "\n",
    "# SETUP: Get the proper backend\n",
    "backend = usb.backend.libusb1.get_backend(find_library=lambda x: \"C:\\\\Users\\\\JohnD\\Documents\\\\Jupyter Notebooks\\\\libusb-1.0.dll\")"
   ]
  },
  {
   "cell_type": "code",
   "execution_count": 2,
   "metadata": {},
   "outputs": [],
   "source": [
    "import usb.core\n",
    "import usb.util\n",
    "import sys\n",
    "\n",
    "# SETUP: Find our device\n",
    "dev = usb.core.find(idVendor=0x1cbe, idProduct=0x0003, backend=backend)\n",
    "\n",
    "if dev is None:\n",
    "    raise ValueError('Device not found')\n",
    "    \n",
    "dev.set_configuration()\n",
    "dev.reset()"
   ]
  },
  {
   "cell_type": "markdown",
   "metadata": {},
   "source": [
    "# Run"
   ]
  },
  {
   "cell_type": "code",
   "execution_count": null,
   "metadata": {},
   "outputs": [],
   "source": [
    "# This is how you query the identification information\n",
    "dev.write(0x01, b\"*IDN?\\n\", 100)\n",
    "print(bytearray(dev.read(0x81, 50)).decode())\n",
    "\n",
    "# This is how you query a value\n",
    "dev.write(0x01, b\"TEST:A?\\n\", 100)\n",
    "print(bytearray(dev.read(0x81, 50)).decode())\n",
    "\n",
    "# This is how you issue a command to change a value\n",
    "dev.write(0x01, b\"TEST:A 113\\n\", 100)\n",
    "\n",
    "# This is just to check your changes\n",
    "dev.write(0x01, b\"TEST:A?\\n\", 100)\n",
    "print(bytearray(dev.read(0x81, 50)).decode())"
   ]
  },
  {
   "cell_type": "code",
   "execution_count": 3,
   "metadata": {},
   "outputs": [
    {
     "name": "stdout",
     "output_type": "stream",
     "text": [
      "GENERAL_PHOTONICS,INSTR2013,0,01-02\r\n",
      "\n"
     ]
    }
   ],
   "source": [
    "dev.write(0x01, b\"*IDN?\\n\", 100)\n",
    "print(bytearray(dev.read(0x81, 50)).decode())"
   ]
  },
  {
   "cell_type": "code",
   "execution_count": 4,
   "metadata": {},
   "outputs": [
    {
     "name": "stdout",
     "output_type": "stream",
     "text": [
      "12\r\n",
      "\n"
     ]
    }
   ],
   "source": [
    "# This is how you query a value\n",
    "dev.write(0x01, b\"TEST:A?\\n\", 100)\n",
    "print(bytearray(dev.read(0x81, 50)).decode())"
   ]
  },
  {
   "cell_type": "code",
   "execution_count": 6,
   "metadata": {},
   "outputs": [
    {
     "data": {
      "text/plain": [
       "10"
      ]
     },
     "execution_count": 6,
     "metadata": {},
     "output_type": "execute_result"
    }
   ],
   "source": [
    "# This is how you issue a command to change a value\n",
    "dev.write(0x01, b\"TEST:A 20\\n\", 100)"
   ]
  },
  {
   "cell_type": "code",
   "execution_count": null,
   "metadata": {},
   "outputs": [],
   "source": [
    "from ipywidgets import widgets \n",
    "from IPython.display import display \n",
    " \n",
    "def onButtonClick(b):\n",
    "    print(\"Button \" + b.description + \" has been clicked\")\n",
    " \n",
    "for i in range(1,4):\n",
    "    button = widgets.Button(description=str(i))\n",
    "    display(button)\n",
    "    button.on_click(onButtonClick)"
   ]
  },
  {
   "cell_type": "code",
   "execution_count": 13,
   "metadata": {},
   "outputs": [
    {
     "data": {
      "application/vnd.jupyter.widget-view+json": {
       "model_id": "5032d46cb45248dbb537cd4235afefa6",
       "version_major": 2,
       "version_minor": 0
      },
      "text/plain": [
       "Button(description='Turn On', style=ButtonStyle())"
      ]
     },
     "metadata": {},
     "output_type": "display_data"
    },
    {
     "data": {
      "application/vnd.jupyter.widget-view+json": {
       "model_id": "2f248867bb544fc4a4df44fe23243bcf",
       "version_major": 2,
       "version_minor": 0
      },
      "text/plain": [
       "Output()"
      ]
     },
     "metadata": {},
     "output_type": "display_data"
    },
    {
     "data": {
      "application/vnd.jupyter.widget-view+json": {
       "model_id": "3d7c7754f57d469f85fe615973b06795",
       "version_major": 2,
       "version_minor": 0
      },
      "text/plain": [
       "Button(description='Turn Off', style=ButtonStyle())"
      ]
     },
     "metadata": {},
     "output_type": "display_data"
    },
    {
     "data": {
      "application/vnd.jupyter.widget-view+json": {
       "model_id": "504987ee5c5742679663a69bb9ed9c8f",
       "version_major": 2,
       "version_minor": 0
      },
      "text/plain": [
       "Output()"
      ]
     },
     "metadata": {},
     "output_type": "display_data"
    }
   ],
   "source": [
    "import ipywidgets as widgets\n",
    "#print(widgets.Button.on_click.__doc__)\n",
    "from IPython.display import display\n",
    "button = widgets.Button(description=\"Turn On\")\n",
    "output = widgets.Output()\n",
    "display(button, output)\n",
    "button1= widgets.Button(description=\"Turn Off\")\n",
    "output1 = widgets.Output()\n",
    "display(button1, output1)\n",
    "\n",
    "def on_button_clicked(b):\n",
    "    with output:\n",
    "        dev.write(0x01, b\"TEST:A 20\\n\", 100)\n",
    "def on_button1_clicked(b):\n",
    "    with output:\n",
    "        dev.write(0x01, b\"TEST:A 5\\n\", 100)\n",
    "def flash(b):\n",
    "    with output\n",
    "\n",
    "button.on_click(on_button_clicked)\n",
    "button1.on_click(on_button1_clicked)"
   ]
  },
  {
   "cell_type": "code",
   "execution_count": null,
   "metadata": {},
   "outputs": [],
   "source": []
  }
 ],
 "metadata": {
  "kernelspec": {
   "display_name": "Python 3",
   "language": "python",
   "name": "python3"
  },
  "language_info": {
   "codemirror_mode": {
    "name": "ipython",
    "version": 3
   },
   "file_extension": ".py",
   "mimetype": "text/x-python",
   "name": "python",
   "nbconvert_exporter": "python",
   "pygments_lexer": "ipython3",
   "version": "3.7.9"
  }
 },
 "nbformat": 4,
 "nbformat_minor": 4
}
